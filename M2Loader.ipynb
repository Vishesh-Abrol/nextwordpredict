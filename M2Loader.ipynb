{
 "cells": [
  {
   "cell_type": "code",
   "execution_count": 105,
   "id": "45b0f7f0",
   "metadata": {},
   "outputs": [],
   "source": [
    "import pickle \n",
    "from keras.models import load_model\n",
    "from tensorflow.keras.utils import to_categorical\n",
    "import matplotlib.pyplot as plt\n",
    "import numpy as np"
   ]
  },
  {
   "cell_type": "code",
   "execution_count": 106,
   "id": "86c4159a",
   "metadata": {},
   "outputs": [
    {
     "name": "stdout",
     "output_type": "stream",
     "text": [
      "Model: \"sequential_1\"\n",
      "_________________________________________________________________\n",
      "Layer (type)                 Output Shape              Param #   \n",
      "=================================================================\n",
      "embedding_1 (Embedding)      (None, 3, 10)             58340     \n",
      "_________________________________________________________________\n",
      "lstm_2 (LSTM)                (None, 3, 1000)           4044000   \n",
      "_________________________________________________________________\n",
      "lstm_3 (LSTM)                (None, 1000)              8004000   \n",
      "_________________________________________________________________\n",
      "dense_2 (Dense)              (None, 1000)              1001000   \n",
      "_________________________________________________________________\n",
      "dense_3 (Dense)              (None, 5834)              5839834   \n",
      "=================================================================\n",
      "Total params: 18,947,174\n",
      "Trainable params: 18,947,174\n",
      "Non-trainable params: 0\n",
      "_________________________________________________________________\n"
     ]
    }
   ],
   "source": [
    "model = load_model('m2.h5')\n",
    "tokenizer = pickle.load(open('M2tokenizer.pkl', 'rb'))\n",
    "history = pickle.load(open('M2history.pkl' , 'rb'))\n",
    "model.summary()"
   ]
  },
  {
   "cell_type": "code",
   "execution_count": 107,
   "id": "f467e219",
   "metadata": {},
   "outputs": [
    {
     "data": {
      "image/png": "[encoded data removed]",
      "text/plain": [
       "<Figure size 432x288 with 1 Axes>"
      ]
     },
     "metadata": {
      "needs_background": "light"
     },
     "output_type": "display_data"
    }
   ],
   "source": [
    "plt.plot(history['accuracy'])\n",
    "plt.title('model accuracy')\n",
    "plt.ylabel('accuracy')\n",
    "plt.xlabel('epoch')\n",
    "plt.legend(['train'], loc='upper left')\n",
    "plt.show()"
   ]
  },
  {
   "cell_type": "code",
   "execution_count": 108,
   "id": "2bc08d0f",
   "metadata": {},
   "outputs": [
    {
     "data": {
      "image/png": "[encoded data removed]",
      "text/plain": [
       "<Figure size 432x288 with 1 Axes>"
      ]
     },
     "metadata": {
      "needs_background": "light"
     },
     "output_type": "display_data"
    }
   ],
   "source": [
    "plt.plot(history['loss'])\n",
    "plt.title('model loss')\n",
    "plt.ylabel('loss')\n",
    "plt.xlabel('epoch')\n",
    "plt.legend(['train'], loc='upper left')\n",
    "plt.show()"
   ]
  },
  {
   "cell_type": "code",
   "execution_count": 114,
   "id": "bfa291ec",
   "metadata": {},
   "outputs": [],
   "source": [
    "def create_X_Y():\n",
    "    file = open('TestTC.txt')   #processed book\n",
    "    data = file.read()\n",
    "    data = data.replace('\\ufeff', \"\")\n",
    "    data = data[1:-1]\n",
    "    sequence_data = tokenizer.texts_to_sequences([data])[0]\n",
    "    X = []\n",
    "    Y = []\n",
    "    for i in range(0 , len(sequence_data)-4):\n",
    "        word = []\n",
    "        for j in range(i , i+3):   \n",
    "            word.append(sequence_data[j])\n",
    "        X.append(word)\n",
    "        Y.append(sequence_data[i+3]) \n",
    "    \n",
    "    vocab_size = len(tokenizer.word_index) + 1\n",
    "    X = np.array(X)\n",
    "    Y = np.array(Y)\n",
    "    Y = to_categorical(Y, num_classes=vocab_size)\n",
    "    \n",
    "    return X,Y"
   ]
  },
  {
   "cell_type": "code",
   "execution_count": 121,
   "id": "5fe086f7",
   "metadata": {},
   "outputs": [
    {
     "name": "stdout",
     "output_type": "stream",
     "text": [
      "1061/1061 [==============================] - 61s 57ms/step - loss: 6.9863 - accuracy: 0.6369\n"
     ]
    }
   ],
   "source": [
    "X,Y = create_X_Y()\n",
    "\n",
    "Result = model.evaluate(X , Y)"
   ]
  },
  {
   "cell_type": "code",
   "execution_count": 165,
   "id": "627b5a65",
   "metadata": {},
   "outputs": [],
   "source": [
    "texts = [\"his tall spare\" , \"i wrote them\" , \"the little things\" , \"he never did\",\n",
    "        \n",
    "        \"what is that\" , \"my name is\" , \"how are you\"\n",
    "        \n",
    "        ]"
   ]
  },
  {
   "cell_type": "code",
   "execution_count": 166,
   "id": "ff8cddd3",
   "metadata": {},
   "outputs": [
    {
     "name": "stdout",
     "output_type": "stream",
     "text": [
      "(7, 3)\n",
      "[[ 13 756 757]\n",
      " [  4 441  93]\n",
      " [  1  64 407]\n",
      " [ 10 103  82]\n",
      " [ 38  14   9]\n",
      " [ 17 233  14]\n",
      " [ 91  49  12]]\n"
     ]
    }
   ],
   "source": [
    "sequence = tokenizer.texts_to_sequences(texts)\n",
    "\n",
    "sequence = np.array(sequence)\n",
    "print(sequence.shape)\n",
    "print(sequence)\n"
   ]
  },
  {
   "cell_type": "code",
   "execution_count": 167,
   "id": "58555d75",
   "metadata": {},
   "outputs": [
    {
     "name": "stdout",
     "output_type": "stream",
     "text": [
      "[ 608   70    9  253 2651 1116    6]\n"
     ]
    }
   ],
   "source": [
    "predict_x = model.predict(sequence) \n",
    "classes_x = np.argmax(predict_x,axis=1)\n",
    "print(classes_x)"
   ]
  },
  {
   "cell_type": "code",
   "execution_count": 168,
   "id": "88406bc6",
   "metadata": {},
   "outputs": [
    {
     "name": "stdout",
     "output_type": "stream",
     "text": [
      "['figure', 'they', 'that', 'wish', 'compared', 'vincent', 'a']\n"
     ]
    }
   ],
   "source": [
    "temp = []\n",
    "for i in classes_x:\n",
    "    temp.append([i])\n",
    "\n",
    "print(tokenizer.sequences_to_texts(temp))"
   ]
  }
 ],
 "metadata": {
  "kernelspec": {
   "display_name": "Python 3",
   "language": "python",
   "name": "python3"
  },
  "language_info": {
   "codemirror_mode": {
    "name": "ipython",
    "version": 3
   },
   "file_extension": ".py",
   "mimetype": "text/x-python",
   "name": "python",
   "nbconvert_exporter": "python",
   "pygments_lexer": "ipython3",
   "version": "3.8.8"
  }
 },
 "nbformat": 4,
 "nbformat_minor": 5
}
